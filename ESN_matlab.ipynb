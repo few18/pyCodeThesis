{
 "cells": [
  {
   "cell_type": "code",
   "execution_count": 1,
   "id": "753858dc",
   "metadata": {},
   "outputs": [],
   "source": [
    "# import necessary libraries\n",
    "\n",
    "import numpy as np\n",
    "import matplotlib.pyplot as plt\n",
    "from sklearn import preprocessing\n",
    "import scipy.stats\n",
    "import scipy as sp\n",
    "from scipy.io import loadmat"
   ]
  },
  {
   "cell_type": "code",
   "execution_count": 2,
   "id": "0c824b76",
   "metadata": {},
   "outputs": [],
   "source": [
    "def data_matlabcode():\n",
    "    \n",
    "    x = np.zeros(20000)\n",
    "    y = np.zeros(20000)\n",
    "    \n",
    "    x = np.reshape(x, (1,20000))\n",
    "    y = np.reshape(y, (1,20000))\n",
    "    \n",
    "    x[0] = 0.1\n",
    "    y[0] = 0.2\n",
    "    \n",
    "    for i in range(1,13):\n",
    "        x[:,i] = x[:,i-1] * (3.78 - 3.78*x[:,i-1])\n",
    "        y[:,i] = y[:,i-1] * (3.77 - 3.77*y[:,i-1])\n",
    "        \n",
    "    for i in range(13, 20000):\n",
    "        x[:,i] = x[:,i-1] * (3.78 - 3.78*x[:,i-1] - 0.1*y[:,i-3])\n",
    "        y[:,i] = y[:,i-1] * (3.77 - 3.77*y[:,i-1] - 0.1*x[:,i-1])\n",
    "        \n",
    "    # generate sinusodial seasonal component\n",
    "    #s = np.sin(np.linspace(0, 2 * np.pi, 24 + 1)) # why 24 + 1\n",
    "    #seasonality = np.tile(s[:-1], 250) # and why then exclude the last element\n",
    "    #print(len(seasonality))\n",
    "    \n",
    "    #x += 0.1 * seasonality\n",
    "    #y += 0.1 * seasonality\n",
    "    \n",
    "    return x, y #, np.concatenate((x,y), axis = 0)"
   ]
  },
  {
   "cell_type": "code",
   "execution_count": 3,
   "id": "35522254",
   "metadata": {},
   "outputs": [],
   "source": [
    "# data = np.loadtxt('MackeyGlass_t17.txt')\n",
    "# matlab_data = loadmat('xy.mat')"
   ]
  },
  {
   "cell_type": "code",
   "execution_count": 4,
   "id": "c5dfe8c1",
   "metadata": {},
   "outputs": [],
   "source": [
    "# # generate data\n",
    "# X_data, Y_data = data_matlabcode()\n",
    "\n",
    "# len = 1000\n",
    "\n",
    "# # only use last 500 data points\n",
    "# X_data = X_data[:,20000-len:]\n",
    "# Y_data = Y_data[:,20000-len:]\n",
    "\n",
    "# # standardise data\n",
    "# #X_std = preprocessing.scale(X_data, axis = 1)\n",
    "# #Y_std = preprocessing.scale(Y_data, axis = 1)\n",
    "\n",
    "# X_std = np.reshape(X_data, (X_data.shape[1]))\n",
    "# Y_std = np.reshape(Y_data, (Y_data.shape[1]))\n",
    "\n",
    "# i = 0\n",
    "\n",
    "# X_std = X_std[:X_data.shape[1]-i]\n",
    "# Y_std = Y_std[i:]\n",
    "\n",
    "# print(X_std.shape)\n",
    "# print(Y_std.shape)\n",
    "\n",
    "# print(np.mean(X_std))\n",
    "# print(np.mean(Y_std))\n",
    "\n",
    "# print(np.var(X_std))\n",
    "# print(np.var(X_std))"
   ]
  },
  {
   "cell_type": "code",
   "execution_count": 5,
   "id": "bca3fb72",
   "metadata": {},
   "outputs": [],
   "source": [
    "# # generate the ESN reservoir\n",
    "# inSize = outSize = 1\n",
    "# resSize = 400\n",
    "# a = 0.5 # leaking rate\n",
    "# np.random.seed(42)\n",
    "# #rvs = sp.stats.uniform(-1,2).rvs\n",
    "# Win = (np.random.rand(resSize,1+inSize) - 0.5) * 1\n",
    "# W = np.random.rand(resSize,resSize) - 0.5\n",
    "# #Win = sp.sparse.random(resSize,1+inSize, 0.01, dtype = float, data_rvs = rvs).toarray()\n",
    "# #W = sp.sparse.random(resSize,resSize, 0.01, dtype = float, data_rvs = rvs).toarray()\n",
    "# print(W.shape)\n",
    "# # normalizing and setting spectral radius (correct, slow):\n",
    "# print('Computing spectral radius...')\n",
    "# rhoW = max(abs(np.linalg.eig(W)[0]))\n",
    "# print('done.')\n",
    "# W *= 1.25 / rhoW"
   ]
  },
  {
   "cell_type": "code",
   "execution_count": 6,
   "id": "b82b38cb",
   "metadata": {},
   "outputs": [],
   "source": [
    "# trainLen = int(len/2)\n",
    "# testLen = len - trainLen - i\n",
    "# nForget = 20\n",
    "\n",
    "# # allocated memory for the design (collected states) matrix\n",
    "# X = np.zeros((1+inSize+resSize,trainLen-nForget))\n",
    "# # set the corresponding target matrix directly\n",
    "# Yt = Y_std[None,nForget+1:trainLen+1] \n",
    "# #Yt = data[None,nForget+1:trainLen+1] \n",
    "# print(Yt.shape)"
   ]
  },
  {
   "cell_type": "code",
   "execution_count": 7,
   "id": "77c243a8",
   "metadata": {},
   "outputs": [],
   "source": [
    "# # run the reservoir with the data and collect X\n",
    "# x = np.zeros((resSize,1))\n",
    "# for t in range(trainLen):\n",
    "#     u = X_std[t]\n",
    "#     #u = data[t]\n",
    "#     x = (1-a)*x + a*np.tanh( np.dot( Win, np.vstack((1,u)) ) + np.dot( W, x ) )\n",
    "#     if t >= nForget:\n",
    "#         X[:,t-nForget] = np.vstack((1,u,x))[:,0]"
   ]
  },
  {
   "cell_type": "code",
   "execution_count": 8,
   "id": "198cbe1f",
   "metadata": {},
   "outputs": [],
   "source": [
    "# # train the output by ridge regression\n",
    "# reg = 1e-8 # regularization coefficient\n",
    "# # direct equations from texts:\n",
    "# #X_T = X.T\n",
    "# #Wout = np.dot( np.dot(Yt,X_T), linalg.inv( np.dot(X,X_T) + \\\n",
    "# #    reg*np.eye(1+inSize+resSize) ) )\n",
    "# # using scipy.linalg.solve:\n",
    "# Wout = np.linalg.solve( np.dot(X,X.T) + reg*np.eye(1+inSize+resSize), \n",
    "#     np.dot(X,Yt.T) ).T"
   ]
  },
  {
   "cell_type": "code",
   "execution_count": 9,
   "id": "d74e03f3",
   "metadata": {},
   "outputs": [],
   "source": [
    "# # run the trained ESN in a generative mode. no need to initialize here, \n",
    "# # because x is initialized with training data and we continue from there.\n",
    "# Y = np.zeros((outSize,testLen))\n",
    "# u = X_std[trainLen]\n",
    "# #u = data[trainLen]\n",
    "\n",
    "# for t in range(testLen-1):\n",
    "#     x = (1-a)*x + a*np.tanh( np.dot( Win, np.vstack((1,u)) ) + np.dot( W, x ) )\n",
    "#     y = np.dot( Wout, np.vstack((1,u,x)) )\n",
    "#     Y[:,t] = y\n",
    "#     # generative mode:\n",
    "#     #u = y\n",
    "#     ## this would be a predictive mode:\n",
    "#     u = X_std[trainLen+t+1]\n",
    "#     #u = data[trainLen + t + 1]"
   ]
  },
  {
   "cell_type": "code",
   "execution_count": 10,
   "id": "6ac82819",
   "metadata": {},
   "outputs": [],
   "source": [
    "# # compute MSE for the first errorLen time steps\n",
    "# errorLen = testLen\n",
    "# print(Y_std[trainLen:trainLen+errorLen+1].shape)\n",
    "# mse = sum( np.square( Y_std[trainLen:trainLen+errorLen+1] - \n",
    "#     Y[0,0:errorLen] ) ) / errorLen\n",
    "# print('MSE = ' + str( mse ))"
   ]
  },
  {
   "cell_type": "code",
   "execution_count": 11,
   "id": "81f5dfb9",
   "metadata": {},
   "outputs": [],
   "source": [
    "# print(Y.shape)\n",
    "# #print(np.reshape(X_std[9750:],(1,250)).shape)\n",
    "# print(scipy.stats.spearmanr(np.reshape(Y_std[trainLen:trainLen+errorLen+1],(1,trainLen-i)), Y, axis = 1))\n",
    "# print(scipy.stats.spearmanr(Y_std[trainLen:trainLen+errorLen+1],Y[0,0:errorLen+1]))\n"
   ]
  },
  {
   "cell_type": "code",
   "execution_count": 12,
   "id": "abc4fc05",
   "metadata": {},
   "outputs": [],
   "source": [
    "# # plot some signals\n",
    "# plt.figure(1).clear()\n",
    "# plt.plot( Y_std[trainLen+1+200:trainLen+testLen+1], 'g' )\n",
    "# plt.plot( Y[:,200:].T, 'b' )\n",
    "# plt.title('Target and generated signals $y(n)$ starting at $n=0$')\n",
    "# plt.legend(['Target signal', 'Free-running predicted signal'])\n",
    "\n",
    "# plt.figure(2).clear()\n",
    "# plt.plot( X[0:20,0:200].T )\n",
    "# plt.title(r'Some reservoir activations $\\mathbf{x}(n)$')\n",
    "\n",
    "# plt.figure(3).clear()\n",
    "# plt.bar( np.arange(1+inSize+resSize), Wout[0].T )\n",
    "# plt.title(r'Output weights $\\mathbf{W}^{out}$')\n",
    "\n",
    "# plt.show()"
   ]
  },
  {
   "cell_type": "code",
   "execution_count": 13,
   "id": "ec3b0f8e",
   "metadata": {},
   "outputs": [],
   "source": [
    "def Causal_ESN(X,Y, n_units = 400, rho = 1.8, leak_rate= 0.5, reg = 1e-8):\n",
    "    \n",
    "    \"\"\"\n",
    "    Causal_ESN purpose is to determine wether there is a causal relationship between\n",
    "    two time series X and Y. Function is based on a Resevoir Computing method called\n",
    "    Echo State Networks (ESN).\n",
    "    \n",
    "    Inputs:\n",
    "    X - (N,) shaped numpy array representing an N-point long time series X\n",
    "    Y - (N,) shaped numpy array representing an N-point long time series Y\n",
    "    n_units - number of neurons in the resevois, by default 400\n",
    "    rho - desired spectral radius of resevoir, by default 1.8\n",
    "    leak_rate - leaking rate of the neurons in the resevoir, by default 0.5\n",
    "    reg - magnitude of regularization parameter for least square fitting, by\n",
    "          default set to 1e-8\n",
    "          \n",
    "    Outputs:\n",
    "    corr - the correlation between the ESN predicted output and the test data\n",
    "    \"\"\"\n",
    "    \n",
    "    # get length of time series\n",
    "    N = X.shape[0]\n",
    "    #print('Length of time series {}'.format(N))\n",
    "    \n",
    "    # generate the ESN reservoir\n",
    "    \n",
    "    inSize = outSize = 1\n",
    "    resSize = n_units\n",
    "    a = leak_rate\n",
    "    # set random seed\n",
    "    np.random.seed(42)\n",
    "    # initialise the input layer and resevoir\n",
    "    Win = (np.random.rand(resSize,1+inSize) - 0.5) * 1\n",
    "    W = np.random.rand(resSize,resSize) - 0.5\n",
    "    # setting the spectral radius of resevoir W\n",
    "    rhoW = max(abs(np.linalg.eig(W)[0]))\n",
    "    W *= rho / rhoW\n",
    "    \n",
    "    trainLen = N // 2\n",
    "    testLen = N - trainLen\n",
    "    nForget = 20\n",
    "    \n",
    "    #print('Length of training set {}'.format(trainLen))\n",
    "    #print('Length of testing set {}'.format(testLen))\n",
    "\n",
    "    # initialise state matrix\n",
    "    X_state = np.zeros((1+inSize+resSize,trainLen-nForget))\n",
    "    # initialise matrix with collected data\n",
    "    Yt = Y[None,nForget+1:trainLen+1]\n",
    "    \n",
    "    # run data through the reservoir and save X\n",
    "    x = np.zeros((resSize,1))\n",
    "    for t in range(trainLen):\n",
    "        u = X[t]\n",
    "        x = (1-a)*x + a*np.tanh( np.dot( Win, np.vstack((1,u)) ) + np.dot( W, x ) )\n",
    "        if t >= nForget:\n",
    "            X_state[:,t-nForget] = np.vstack((1,u,x))[:,0]\n",
    "    \n",
    "\n",
    "    # train the output by ridge regression\n",
    "    Wout = np.linalg.solve(np.dot(X_state,X_state.T) + reg*np.eye(1+inSize+resSize),np.dot(X_state,Yt.T)).T\n",
    "    \n",
    "    # run through test data in predictive mode\n",
    "    Y_test = np.zeros((outSize,testLen))\n",
    "    u = X[trainLen]\n",
    "    #print(trainLen)\n",
    "    #print(testLen)\n",
    "    #print(X[trainLen:].shape)\n",
    "    for t in range(testLen-1):\n",
    "        x = (1-a)*x + a*np.tanh( np.dot( Win, np.vstack((1,u)) ) + np.dot( W, x ) )\n",
    "        y = np.dot(Wout, np.vstack((1,u,x)))\n",
    "        Y_test[:,t] = y\n",
    "        u = X[trainLen+t+1]\n",
    "    \n",
    "    # compute correlation between ESN output and test data\n",
    "    #print(Y_test[:,1:].shape)\n",
    "    #print(Y[trainLen+1:].shape)\n",
    "    corr = sp.stats.spearmanr(Y[trainLen+1:],np.reshape(Y_test[:,:testLen-1], (testLen-1)))\n",
    "    \n",
    "    return corr"
   ]
  },
  {
   "cell_type": "code",
   "execution_count": 14,
   "id": "d47a334a",
   "metadata": {},
   "outputs": [],
   "source": [
    "# print('Mackey Glass')\n",
    "# print(Causal_ESN(data[:], data[:], rho = 0.6, leak_rate = 0.6, reg = 1e-10))"
   ]
  },
  {
   "cell_type": "code",
   "execution_count": 15,
   "id": "6eaf483f",
   "metadata": {},
   "outputs": [],
   "source": [
    "def data_matlabcode2():\n",
    "    \n",
    "    x = np.zeros(6000)\n",
    "    y = np.zeros(6000)\n",
    "    \n",
    "    #x = np.reshape(x, (1,6000))\n",
    "    #y = np.reshape(y, (1,6000))\n",
    "    \n",
    "    x[0] = 0.1\n",
    "    y[0] = 0.2\n",
    "    \n",
    "    for i in range(1,13):\n",
    "        x[i] = x[i-1] * (3.78 - 3.78*x[i-1])\n",
    "        y[i] = y[i-1] * (3.77 - 3.77*y[i-1])\n",
    "        \n",
    "    for i in range(13, 6000):\n",
    "        x[i] = x[i-1] * (3.78 - 3.78*x[i-1])# - 0.01*y[i-3])\n",
    "        y[i] = y[i-1] * (3.77 - 3.77*y[i-1] - 0.8*x[i-1])\n",
    "        \n",
    "    # generate sinusodial seasonal component\n",
    "    #s = np.sin(np.linspace(0, 2 * np.pi, 24 + 1)) # why 24 + 1\n",
    "    #seasonality = np.tile(s[:-1], 250) # and why then exclude the last element\n",
    "    #print(seasonality.shape)\n",
    "    \n",
    "    #x += 0.01 * seasonality\n",
    "    #y += 0.01 * seasonality\n",
    "    \n",
    "    return x, y #, np.concatenate((x,y), axis = 0)"
   ]
  },
  {
   "cell_type": "code",
   "execution_count": 16,
   "id": "5561c374",
   "metadata": {},
   "outputs": [],
   "source": [
    "# print(matlab_data['xy'].shape)\n",
    "# xy_matlab = matlab_data['xy']"
   ]
  },
  {
   "cell_type": "code",
   "execution_count": 17,
   "id": "7e6f238b",
   "metadata": {},
   "outputs": [],
   "source": [
    "def four_species_model_shiv(seasonal=False, years=12, obs_per_year=24, seasonal_strength=0.3):\n",
    "    \n",
    "    \"\"\"\n",
    "        Creates 4 specie model defined through the equations\n",
    "    .. math::\n",
    "        y_{1}(t+1) &= y_{1}(t)[3.9-3.9 y_{1}(t)]\n",
    "        y_{2}(t+1) &= y_{2}(t)[3.6-0.4 y_{1}(t)-3.6 y_{2}(t)]\n",
    "        y_{3}(t+1) &= y_{3}(t)[3.6-0.4 y_{2}(t)-3.6 y_{3}(t)]\n",
    "        y_{4}(t+1) &= y_{4}(t)[3.8-0.35 y_{3}(t)-3.8 y_{4}(t)]\n",
    "    :param seasonal:  whether to add seasonality to the mock time series\n",
    "    :param years: number of 'years' of data to generate\n",
    "    :param obs_per_year: observations per year: use this to express periodicity if data is seasonal\n",
    "    :param seasonal_strength: global strength of seasonality, driving all variables\n",
    "    :return: time series of each variable y1, y2, y3, y4\n",
    "    \"\"\"\n",
    "    if seasonal:\n",
    "        # sinusoidal seasonality\n",
    "        s = np.sin(np.linspace(0, 2 * np.pi, obs_per_year + 1))\n",
    "        seasonality = np.tile(s[:-1], years)\n",
    "    else:\n",
    "        seasonality = 0\n",
    "\n",
    "    # initialisation\n",
    "    y1 = np.zeros(int(obs_per_year * years))\n",
    "    y2 = np.zeros(int(obs_per_year * years))\n",
    "    y3 = np.zeros(int(obs_per_year * years))\n",
    "    y4 = np.zeros(int(obs_per_year * years))\n",
    "    y1[0], y2[0], y3[0], y4[0] = 0.4, 0.4, 0.4, 0.4\n",
    "\n",
    "    # generate time series\n",
    "    for i in range(obs_per_year * years - 1):\n",
    "        y1[i + 1] = y1[i] * (3.9 - 3.9 * y1[i])\n",
    "        y2[i + 1] = y2[i] * (3.6 - 0.4 * y1[i] - 3.6 * y2[i])\n",
    "        y3[i + 1] = y3[i] * (3.6 - 0.4 * y2[i] - 3.6 * y3[i])\n",
    "        y4[i + 1] = y4[i] * (3.8 - 0.35 * y3[i] - 3.8 * y4[i])\n",
    "\n",
    "    if seasonal:\n",
    "        y1 = y1 + seasonal_strength * seasonality\n",
    "        y2 = y2 + seasonal_strength * seasonality\n",
    "        y3 = y3 + seasonal_strength * seasonality\n",
    "        y4 = y4 + seasonal_strength * seasonality\n",
    "    return y1, y2, y3, y4"
   ]
  },
  {
   "cell_type": "code",
   "execution_count": 18,
   "id": "4d34353d",
   "metadata": {},
   "outputs": [],
   "source": [
    "def circle_map(n = 6000):\n",
    "    \n",
    "    t = np.zeros(n)\n",
    "    K = 1\n",
    "    Omega = 0.7\n",
    "    t[0] = 0.5\n",
    "    \n",
    "    for i in range(1,n):\n",
    "        t[i] = (t[i-1] + Omega - (K/(2*np.pi)*np.sin(2*np.pi*t[i-1]))) % 1\n",
    "    \n",
    "    return t"
   ]
  },
  {
   "cell_type": "code",
   "execution_count": 19,
   "id": "cc73f493",
   "metadata": {},
   "outputs": [],
   "source": [
    "def tent_map(n = 6000):\n",
    "    \n",
    "    t = np.zeros(n)\n",
    "    mu = 1.9\n",
    "    t[0] = 0.4\n",
    "    for i  in range(1,n):\n",
    "        if t[i-1]<0.5:\n",
    "            t[i] = mu*t[i-1]\n",
    "        else:\n",
    "            t[i] = mu*(1-t[i-1])\n",
    "    return t"
   ]
  },
  {
   "cell_type": "code",
   "execution_count": 46,
   "id": "04c85b7d",
   "metadata": {
    "scrolled": false
   },
   "outputs": [
    {
     "name": "stdout",
     "output_type": "stream",
     "text": [
      "X and Y\n",
      "SpearmanrResult(correlation=0.0054159858486573596, pvalue=0.7868148395637983)\n",
      "Four Species Model\n",
      "SpearmanrResult(correlation=0.40672984396444534, pvalue=4.548658096774347e-100)\n",
      "Circle Map\n",
      "SpearmanrResult(correlation=0.8634138488702128, pvalue=0.0)\n",
      "Tent Map\n",
      "SpearmanrResult(correlation=0.6034495217291427, pvalue=1.601975273151224e-247)\n"
     ]
    }
   ],
   "source": [
    "# # generate data\n",
    "X_data, Y_data = data_matlabcode2()\n",
    "\n",
    "y1, y2, y3, y4 = four_species_model_shiv(years = 300)\n",
    "\n",
    "\n",
    "circle = circle_map()\n",
    "tent = tent_map()\n",
    "#plt.plot(data[9900:])\n",
    "#plt.show()\n",
    "len = 5000\n",
    "\n",
    "#only use last 500 data points\n",
    "X_data = X_data[6000-len:]\n",
    "Y_data = Y_data[6000-len:]\n",
    "\n",
    "#standardise data\n",
    "# X_std = preprocessing.scale(X_data)\n",
    "# Y_std = preprocessing.scale(Y_data)\n",
    "\n",
    "# X_std = np.reshape(X_data, (X_data.shape[1]))\n",
    "# Y_std = np.reshape(Y_data, (Y_data.shape[1]))\n",
    "\n",
    "i = 7\n",
    "print('X and Y')\n",
    "print(Causal_ESN(Y_data[i:],X_data[:len - i], rho = 1.8, leak_rate = 0.5, reg = 0))\n",
    "# print('Mackey Glass')\n",
    "# print(Causal_ESN(data[10000-len:], data[10000-len:], rho = 0.6, leak_rate = 0.6, reg = 1e-3))\n",
    "# print('xy Matlab')\n",
    "# print(Causal_ESN(xy_matlab[i:,0].T,xy_matlab[:len - i,1].T, rho = 1.8, leak_rate = 0.5, reg = 0))\n",
    "print('Four Species Model')\n",
    "print(Causal_ESN(y3[7200 - len + i:], y1[7200-len:7200 - i], rho = 0.6, leak_rate = 0.6, reg = 1e-3))\n",
    "print('Circle Map')\n",
    "print(Causal_ESN(circle[6000-len:], circle[6000-len:], rho = 0.6, leak_rate = 0.5, reg = 1e-3))\n",
    "print('Tent Map')\n",
    "print(Causal_ESN(tent[6000-len+i:], tent[6000-len:6000-i], rho = 0.9, leak_rate = 0.6, reg = 1e-3))"
   ]
  },
  {
   "cell_type": "code",
   "execution_count": 30,
   "id": "261a0b90",
   "metadata": {},
   "outputs": [],
   "source": [
    "# pred_prey = np.genfromtxt('paramecium-didinium.csv', delimiter=',')"
   ]
  },
  {
   "cell_type": "code",
   "execution_count": 58,
   "id": "525becaa",
   "metadata": {},
   "outputs": [
    {
     "data": {
      "text/plain": [
       "(71, 2)"
      ]
     },
     "execution_count": 58,
     "metadata": {},
     "output_type": "execute_result"
    }
   ],
   "source": [
    "# pred_prey_std = preprocessing.scale(pred_prey[1:,:], axis = 0)\n",
    "# pred_prey_std.shape"
   ]
  },
  {
   "cell_type": "code",
   "execution_count": 147,
   "id": "5f4ae52f",
   "metadata": {},
   "outputs": [
    {
     "data": {
      "text/plain": [
       "SpearmanrResult(correlation=0.24271412680756396, pvalue=0.19624013774941565)"
      ]
     },
     "execution_count": 147,
     "metadata": {},
     "output_type": "execute_result"
    }
   ],
   "source": [
    "# i = 9\n",
    "# Causal_ESN(pred_prey_std[i:,1],pred_prey_std[:71-i,0], rho = 2, leak_rate = 0.5, reg = 1e-10)"
   ]
  },
  {
   "cell_type": "code",
   "execution_count": 464,
   "id": "48ea3e55",
   "metadata": {},
   "outputs": [
    {
     "name": "stdout",
     "output_type": "stream",
     "text": [
      "(71,)\n"
     ]
    }
   ],
   "source": [
    "# print(pred_prey[1:,0].shape)"
   ]
  },
  {
   "cell_type": "code",
   "execution_count": null,
   "id": "546e519d",
   "metadata": {},
   "outputs": [],
   "source": []
  }
 ],
 "metadata": {
  "kernelspec": {
   "display_name": "m4r_venv",
   "language": "python",
   "name": "m4r_venv"
  },
  "language_info": {
   "codemirror_mode": {
    "name": "ipython",
    "version": 3
   },
   "file_extension": ".py",
   "mimetype": "text/x-python",
   "name": "python",
   "nbconvert_exporter": "python",
   "pygments_lexer": "ipython3",
   "version": "3.9.7"
  }
 },
 "nbformat": 4,
 "nbformat_minor": 5
}
