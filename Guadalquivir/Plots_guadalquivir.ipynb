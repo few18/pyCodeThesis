{
 "cells": [
  {
   "cell_type": "code",
   "execution_count": 1,
   "id": "c127bc7a",
   "metadata": {},
   "outputs": [],
   "source": [
    "# import the required libraries\n",
    "import numpy as np\n",
    "import scipy.stats\n",
    "import functools\n",
    "import pandas as pd\n",
    "import argparse\n",
    "import scipy as sc\n",
    "import numpy.matlib as npm\n",
    "import sys\n",
    "import random\n",
    "from tqdm import tqdm\n",
    "import matplotlib.pyplot as plt"
   ]
  },
  {
   "cell_type": "code",
   "execution_count": 2,
   "id": "48c7744f",
   "metadata": {},
   "outputs": [],
   "source": [
    "def compute_ci(data):\n",
    "\n",
    "    n = data.shape[1]\n",
    "    se = scipy.stats.sem(data, axis = 0)\n",
    "    h = se * scipy.stats.t.ppf(1.95 / 2., n-1)\n",
    "    return h"
   ]
  },
  {
   "cell_type": "code",
   "execution_count": 6,
   "id": "2ecdbb07",
   "metadata": {},
   "outputs": [],
   "source": [
    "def lag_fig(xmapy_surr, ymapx_surr, xmapy, ymapx, x_name, y_name):\n",
    "    x = np.arange(-10,11)\n",
    "\n",
    "    mean_xmapy = xmapy.mean(axis = 0)\n",
    "    mean_ymapx = ymapx.mean(axis = 0)\n",
    "\n",
    "    ci_xmapy = compute_ci(xmapy)\n",
    "    ci_ymapx = compute_ci(ymapx)\n",
    "    \n",
    "    ci_xmapy_surr = compute_ci(xmapy_surr)\n",
    "    ci_ymapx_surr = compute_ci(ymapx_surr)\n",
    "    \n",
    "    plt.clf()\n",
    "\n",
    "    fig = plt.figure(figsize = (8,6))\n",
    "    \n",
    "#     name_x = x_name[:3]\n",
    "#     name_y = y_name[:3]\n",
    "\n",
    "    plt.plot(x, mean_xmapy, 'C0-', label= y_name + r'$\\rightarrow$' + x_name)\n",
    "    plt.plot(x, xmapy_surr.mean(axis = 0), 'C0--', label = y_name + r'$\\rightarrow$' + x_name + ' surrogate')\n",
    "    plt.fill_between(x, mean_xmapy - ci_xmapy, mean_xmapy + ci_xmapy, color='C0', alpha=0.2)\n",
    "    plt.fill_between(x, xmapy_surr.mean(axis = 0) - ci_xmapy_surr, xmapy_surr.mean(axis = 0) + ci_xmapy_surr, color='C0', alpha=0.1)\n",
    "\n",
    "    plt.plot(x, mean_ymapx, 'C1-', label= x_name + r'$\\rightarrow$' + y_name)\n",
    "    plt.plot(x, ymapx_surr.mean(axis = 0), 'C1--', label = x_name + r'$\\rightarrow$' + y_name + ' surrogate')\n",
    "    plt.fill_between(x, mean_ymapx - ci_ymapx, mean_ymapx + ci_ymapx, color='C1', alpha=0.2)\n",
    "    plt.fill_between(x, ymapx_surr.mean(axis = 0) - ci_ymapx_surr, ymapx_surr.mean(axis = 0) + ci_ymapx_surr, color='C1', alpha=0.1)\n",
    "\n",
    "    plt.xticks(x)\n",
    "    plt.grid(linestyle = '--', alpha = 0.5)\n",
    "\n",
    "    plt.ylabel(r'$\\rho$', rotation = 0)\n",
    "    plt.xlabel(r'$\\tau$')\n",
    "    #plt.title('Correlation vs Lag')\n",
    "    plt.legend(loc = 1)\n",
    "    name = x_name + '_' + y_name + '_plot.png'\n",
    "    plt.savefig(name, dpi=300)\n",
    "    plt.close(fig)\n",
    "\n",
    "#     return fig"
   ]
  },
  {
   "cell_type": "code",
   "execution_count": 4,
   "id": "675e5e71",
   "metadata": {},
   "outputs": [],
   "source": [
    "relabelling_dict = {\n",
    "    \"Argyrosomus.regius\": \"Ar\",\n",
    "    \"Chelon.labrosus\": \"Cl\",\n",
    "    \"Crangon.crangon\": \"Ccr\",\n",
    "    \"Cyprinus.carpio\": \"Cc\",\n",
    "    \"Dicentrarchus.punctatus\": \"Dp\",\n",
    "    \"Engraulis.encrasicolus\": \"Ee\",\n",
    "    \"Liza.aurata\": \"Lsp\",\n",
    "    \"Liza.ramada\": \"Lr\",\n",
    "    \"Mesopodopsis.slabberi\": \"Ms\",\n",
    "    \"Neomysis.integer\": \"Ni\",\n",
    "    \"Palaemon.longirostris\": \"Pl\",\n",
    "    \"Palaemon.macrodactylus\": \"Pm\",\n",
    "    \"Pomatoschistus\": \"Pom\",\n",
    "    \"Rhopalophthalmus.tartessicus\": \"Rt\",\n",
    "    \"Sardina.pilchardus\": \"Sp\",\n",
    "}"
   ]
  },
  {
   "cell_type": "code",
   "execution_count": 5,
   "id": "175253c4",
   "metadata": {},
   "outputs": [],
   "source": [
    "combs = np.loadtxt('combs_guadalquivir.csv', delimiter = ',', dtype = str)"
   ]
  },
  {
   "cell_type": "code",
   "execution_count": 8,
   "id": "5208108e",
   "metadata": {},
   "outputs": [
    {
     "data": {
      "text/plain": [
       "<Figure size 432x288 with 0 Axes>"
      ]
     },
     "metadata": {},
     "output_type": "display_data"
    }
   ],
   "source": [
    "for comb in combs:\n",
    "    file = 'results_twin/' + str(comb[0]) + '_' + str(comb[1]) + '.npy'\n",
    "    corrs = np.load(file)\n",
    "    x_short = relabelling_dict[comb[0]]\n",
    "    y_short = relabelling_dict[comb[1]]\n",
    "    lag_fig(corrs[:,:,0], corrs[:,:,1], corrs[:,:,2], corrs[:,:,3], x_short, y_short)"
   ]
  },
  {
   "cell_type": "code",
   "execution_count": null,
   "id": "c72ccbbb",
   "metadata": {},
   "outputs": [],
   "source": []
  }
 ],
 "metadata": {
  "kernelspec": {
   "display_name": "m4r_venv",
   "language": "python",
   "name": "m4r_venv"
  },
  "language_info": {
   "codemirror_mode": {
    "name": "ipython",
    "version": 3
   },
   "file_extension": ".py",
   "mimetype": "text/x-python",
   "name": "python",
   "nbconvert_exporter": "python",
   "pygments_lexer": "ipython3",
   "version": "3.9.7"
  }
 },
 "nbformat": 4,
 "nbformat_minor": 5
}
